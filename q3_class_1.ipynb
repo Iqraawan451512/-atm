{
  "nbformat": 4,
  "nbformat_minor": 0,
  "metadata": {
    "colab": {
      "provenance": [],
      "authorship_tag": "ABX9TyMAWvWF2rH6XopZgrPyKcQM",
      "include_colab_link": true
    },
    "kernelspec": {
      "name": "python3",
      "display_name": "Python 3"
    },
    "language_info": {
      "name": "python"
    }
  },
  "cells": [
    {
      "cell_type": "markdown",
      "metadata": {
        "id": "view-in-github",
        "colab_type": "text"
      },
      "source": [
        "<a href=\"https://colab.research.google.com/github/Iqraawan451512/-atm/blob/main/q3_class_1.ipynb\" target=\"_parent\"><img src=\"https://colab.research.google.com/assets/colab-badge.svg\" alt=\"Open In Colab\"/></a>"
      ]
    },
    {
      "cell_type": "markdown",
      "source": [],
      "metadata": {
        "id": "Ear2CIwJ2HIs"
      }
    },
    {
      "cell_type": "markdown",
      "source": [
        "# type's of python"
      ],
      "metadata": {
        "id": "vSUHP8xODT4D"
      }
    },
    {
      "cell_type": "markdown",
      "source": [],
      "metadata": {
        "id": "5flwiZfeDPWA"
      }
    },
    {
      "cell_type": "markdown",
      "source": [
        "## there are four types\n",
        "str int float and boolen\n",
        "string mean simple string form like santances\n",
        "integer mean numbers 1,2 ,1 so one\n",
        "float means\n",
        "numbers in points 2.4\n",
        "boolen\n",
        "in a true or false form"
      ],
      "metadata": {
        "id": "FQO36KzMDfma"
      }
    },
    {
      "cell_type": "code",
      "source": [
        "first_name=\"iqr\"\n",
        "Lastname=\"ifr\"\n",
        "print(first_name + Lastname)\n",
        "print( f\"{first_name} {Lastname}\")"
      ],
      "metadata": {
        "colab": {
          "base_uri": "https://localhost:8080/"
        },
        "id": "j1gC84RrFKUZ",
        "outputId": "ff7def70-93a5-475a-e5c8-58e8073bb4ac"
      },
      "execution_count": 17,
      "outputs": [
        {
          "output_type": "stream",
          "name": "stdout",
          "text": [
            "iqrifr\n",
            "iqr ifr\n"
          ]
        }
      ]
    },
    {
      "cell_type": "markdown",
      "source": [
        "type bataega iski"
      ],
      "metadata": {
        "id": "AWnEMelZJkgk"
      }
    },
    {
      "cell_type": "code",
      "source": [
        "first_name=\"iqra\"\n",
        "email=f\"\"\"Hi {first_name}\n",
        "you nikal\"\"\"\n",
        "print( type(email))\n",
        "print(id(email))"
      ],
      "metadata": {
        "colab": {
          "base_uri": "https://localhost:8080/"
        },
        "id": "zkbkSEB5IzYM",
        "outputId": "e4c0347c-e873-4619-ef56-0b2f72fd06d3"
      },
      "execution_count": 28,
      "outputs": [
        {
          "output_type": "stream",
          "name": "stdout",
          "text": [
            "<class 'str'>\n",
            "137000125522736\n"
          ]
        }
      ]
    },
    {
      "cell_type": "markdown",
      "source": [
        "length or index number\n"
      ],
      "metadata": {
        "id": "NMvdOdvzL08T"
      }
    },
    {
      "cell_type": "code",
      "source": [
        "fruit=[\"apple\",\"mango\",\"banana\"]\n",
        "print(fruit[0:1])\n",
        "print(fruit[-2])\n",
        "print(fruit[0])"
      ],
      "metadata": {
        "colab": {
          "base_uri": "https://localhost:8080/"
        },
        "id": "EMKVSAbsMBip",
        "outputId": "f787b222-9c9f-438e-81d1-e3c527ef4703"
      },
      "execution_count": 33,
      "outputs": [
        {
          "output_type": "stream",
          "name": "stdout",
          "text": [
            "['apple']\n",
            "mango\n",
            "apple\n"
          ]
        }
      ]
    },
    {
      "cell_type": "markdown",
      "source": [
        "line break karna"
      ],
      "metadata": {
        "id": "kVWFniGRH42c"
      }
    },
    {
      "cell_type": "code",
      "source": [
        "first_name=\"iqra\"\n",
        "email = f\"\"\" Hi {first_name}\n",
        " you won a lotery ticket \"\"\"\n",
        "print(email)"
      ],
      "metadata": {
        "colab": {
          "base_uri": "https://localhost:8080/"
        },
        "id": "YrJc_gHpHauG",
        "outputId": "a30611fe-5d72-46f1-bec5-57d94db9e33d"
      },
      "execution_count": 26,
      "outputs": [
        {
          "output_type": "stream",
          "name": "stdout",
          "text": [
            " Hi iqra\n",
            " you won a lotery ticket \n"
          ]
        }
      ]
    },
    {
      "cell_type": "code",
      "source": [
        "email = \"\"\"iqra\\n you won a lotery ticket\"\"\"\n",
        "print(email)"
      ],
      "metadata": {
        "colab": {
          "base_uri": "https://localhost:8080/"
        },
        "id": "mbh-bW7RGCjX",
        "outputId": "f12e1fcd-af70-49da-dee6-332a80707ff2"
      },
      "execution_count": 19,
      "outputs": [
        {
          "output_type": "stream",
          "name": "stdout",
          "text": [
            "iqra\n",
            " you won a lotery ticket\n"
          ]
        }
      ]
    },
    {
      "cell_type": "code",
      "source": [
        "first_name:str = \"ifra,iqra\"\n",
        "print(type(first_name))\n",
        "print(first_name)"
      ],
      "metadata": {
        "colab": {
          "base_uri": "https://localhost:8080/"
        },
        "id": "4zW3kyPWAt5v",
        "outputId": "8669240b-1085-496d-bd7e-e5e0c919266e"
      },
      "execution_count": 11,
      "outputs": [
        {
          "output_type": "stream",
          "name": "stdout",
          "text": [
            "<class 'str'>\n",
            "ifra,iqra\n"
          ]
        }
      ]
    },
    {
      "cell_type": "markdown",
      "source": [],
      "metadata": {
        "id": "wQarMRJSDS83"
      }
    },
    {
      "cell_type": "markdown",
      "source": [],
      "metadata": {
        "id": "palh8A2tDNFR"
      }
    },
    {
      "cell_type": "code",
      "source": [
        "age: int=26\n",
        "height:float =5.9\n",
        "isTeacher=True\n",
        "type(first_name)\n",
        "print(age)\n",
        "print(isTeacher)\n",
        "print(height)"
      ],
      "metadata": {
        "colab": {
          "base_uri": "https://localhost:8080/"
        },
        "id": "L-eQJjZHCTqo",
        "outputId": "2b566bae-b1b4-4f53-97d3-cf0e09a0822d"
      },
      "execution_count": 14,
      "outputs": [
        {
          "output_type": "stream",
          "name": "stdout",
          "text": [
            "26\n",
            "True\n",
            "5.9\n"
          ]
        }
      ]
    },
    {
      "cell_type": "code",
      "execution_count": 1,
      "metadata": {
        "colab": {
          "base_uri": "https://localhost:8080/"
        },
        "id": "qTJfOQse1eWf",
        "outputId": "54805392-f1ef-43d9-d8a2-fc3a81157fb7"
      },
      "outputs": [
        {
          "output_type": "stream",
          "name": "stdout",
          "text": [
            "11\n"
          ]
        }
      ],
      "source": [
        "x=5\n",
        "y=6\n",
        "print(x+y)"
      ]
    },
    {
      "cell_type": "code",
      "source": [
        "print(\"hello world\")"
      ],
      "metadata": {
        "colab": {
          "base_uri": "https://localhost:8080/"
        },
        "id": "8Bvk0cNx2BS9",
        "outputId": "a65b9bde-f88a-4afe-bd70-c7fc9098f47b"
      },
      "execution_count": 2,
      "outputs": [
        {
          "output_type": "stream",
          "name": "stdout",
          "text": [
            "hello world\n"
          ]
        }
      ]
    }
  ]
}