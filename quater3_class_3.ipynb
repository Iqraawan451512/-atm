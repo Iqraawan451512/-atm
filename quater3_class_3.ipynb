{
  "nbformat": 4,
  "nbformat_minor": 0,
  "metadata": {
    "colab": {
      "provenance": [],
      "authorship_tag": "ABX9TyOzajb0m6Zq8kvjzJcEYZUy",
      "include_colab_link": true
    },
    "kernelspec": {
      "name": "python3",
      "display_name": "Python 3"
    },
    "language_info": {
      "name": "python"
    }
  },
  "cells": [
    {
      "cell_type": "markdown",
      "metadata": {
        "id": "view-in-github",
        "colab_type": "text"
      },
      "source": [
        "<a href=\"https://colab.research.google.com/github/Iqraawan451512/-atm/blob/main/quater3_class_3.ipynb\" target=\"_parent\"><img src=\"https://colab.research.google.com/assets/colab-badge.svg\" alt=\"Open In Colab\"/></a>"
      ]
    },
    {
      "cell_type": "code",
      "execution_count": null,
      "metadata": {
        "id": "1DFADEqbbgCB"
      },
      "outputs": [],
      "source": []
    },
    {
      "cell_type": "code",
      "source": [
        "iftar_items=[\"samosa\" , \"pakora\", \"sharbat\"]\n",
        "iftar_items[2]= \"chaat\"\n",
        "iftar_items.pop()\n",
        "iftar_items.append(\"dahi barey\")\n",
        "iftar_items.remove(\"samosa\")\n",
        "print(iftar_items)"
      ],
      "metadata": {
        "colab": {
          "base_uri": "https://localhost:8080/"
        },
        "id": "dr6zAH22pIjb",
        "outputId": "b9f078bb-aa60-4dd7-f650-f48c7854c1cd"
      },
      "execution_count": null,
      "outputs": [
        {
          "output_type": "stream",
          "name": "stdout",
          "text": [
            "['pakora', 'dahi barey']\n"
          ]
        }
      ]
    },
    {
      "cell_type": "markdown",
      "source": [
        "taples men jo chez store ho gi wo change nae ho gi tuples immutable hoty hen in men change nae hoty is k performance fast hoty hen .orderlist  yani sequence men rahty hen  python hamen tuples k feature dyta hy is men bhe index number hoty hen"
      ],
      "metadata": {
        "id": "gd3ZFfwArUeA"
      }
    },
    {
      "cell_type": "code",
      "source": [],
      "metadata": {
        "id": "dkrNRn8qv7zA"
      },
      "execution_count": null,
      "outputs": []
    },
    {
      "cell_type": "code",
      "source": [
        "iftar_items_tuples=(\"khajor\" ,\"pakoray\" ,\"roohafza\")"
      ],
      "metadata": {
        "id": "WzkQk0Uhq7ra"
      },
      "execution_count": null,
      "outputs": []
    },
    {
      "cell_type": "markdown",
      "source": [
        "sets is men unique items hoty hen is men add or remove kar sakty hen is men sequence change hoti hy y un order hoty hen is le a is men hum change nae kar sakty hen y un changeable hoty hen is men index number nae hoty let ko set men convert kar sakty hen\n",
        "iftar_items_set ={\" roh afza\" ,\"rooh afza\" ,\"bananan\" ,\"jalabi\" ,\"samosay\"}\n",
        "aik new variable men store kren gy jasy iftar_item_sets k bananan hy\n",
        "iftar_item_sets =set(iftar_items)\n",
        "agr list men change karna hy to set k jaga list ho jaye ga is men change nae kar sakty hen lakin add or remove kar sakty hen lakin hata nae sakty\n",
        ". add or .remove k method sy\n",
        "\n"
      ],
      "metadata": {
        "id": "KlET02DBsXbK"
      }
    },
    {
      "cell_type": "markdown",
      "source": [],
      "metadata": {
        "id": "J7jxO9nIv6tg"
      }
    },
    {
      "cell_type": "markdown",
      "source": [
        "ferozan set men him add or remove bhe nae kar sakty\n",
        "baki set k tarhan h hoty hen is k data type frezonset h hy\n"
      ],
      "metadata": {
        "id": "LMi6z2kGwG8Z"
      }
    },
    {
      "cell_type": "markdown",
      "source": [
        "input men jo bhe dalen k wo usy string pass kary ga\n",
        "python men string or number ko add nae kar sakty error dy da is ko khaty hen implestive type casting\n",
        "python khud type ko change kar dyta hy\n",
        "hum batanty hem explasitive type casting h hum batat rahy hen k type ko change kar do python ko bolen int type  yani  num 1 yani number\n",
        "float type yani points men number\n",
        "int or () men lekhny k matlab hy implestive type\n",
        "hum string or int ko yani integer ko add nae karwa skty"
      ],
      "metadata": {
        "id": "KjPhKTXTx6O_"
      }
    },
    {
      "cell_type": "markdown",
      "source": [
        "modules yani apni file ko diffrent files men tor dyna ta ky code readable ho is men hum !pip ky name sy koi bhe module ko install kar sakty hen\n",
        "!pip install request"
      ],
      "metadata": {
        "id": "_1jcovOl0YyQ"
      }
    },
    {
      "cell_type": "markdown",
      "source": [
        "function"
      ],
      "metadata": {
        "id": "n-LfW01c10r0"
      }
    },
    {
      "cell_type": "code",
      "source": [
        "def greet():\n",
        "    print(\"hello world!\")\n",
        "\n",
        "greet()\n",
        "\n"
      ],
      "metadata": {
        "id": "1M1AREoB1t5q",
        "colab": {
          "base_uri": "https://localhost:8080/"
        },
        "outputId": "7c6bd3d0-1def-4c15-bec4-35796392b9d2"
      },
      "execution_count": null,
      "outputs": [
        {
          "output_type": "stream",
          "name": "stdout",
          "text": [
            "hello world!\n"
          ]
        }
      ]
    },
    {
      "cell_type": "markdown",
      "source": [
        "item :str hamary parameter hen ball hanmary pass argument hy\n",
        "function chala parameter sy argument k pass ja k chala ny print karwaya return men hum isy save py kar sakty hen aik new veriable men  like bag=catch(\"⚽\")\n",
        "positional argument jo phly hy parameter wo phala  argument men aye ga\n",
        "uper hum parameter men item 1 .item2 den or nechy argument men ball1 jo den gy wo item1 ho ga or ball2 hamara parameter 2 k hi ga .\n",
        "keyword argument yani hum argument k sath parameter bat den gy\n",
        "item=\" ball \" , item-2=\"ball2\""
      ],
      "metadata": {
        "id": "AToTTwxf4icN"
      }
    },
    {
      "cell_type": "code",
      "source": [
        "def catch(item: str):\n",
        "    print(f\"hello world! {item}\")\n",
        "    return item\n",
        "\n",
        "bag = catch(\"⚽\")"
      ],
      "metadata": {
        "id": "cl1GukDS4H5a",
        "colab": {
          "base_uri": "https://localhost:8080/"
        },
        "outputId": "288473cd-0d5f-4123-f021-f1efd2f0056b"
      },
      "execution_count": null,
      "outputs": [
        {
          "output_type": "stream",
          "name": "stdout",
          "text": [
            "hello world! ⚽\n"
          ]
        }
      ]
    },
    {
      "cell_type": "markdown",
      "source": [],
      "metadata": {
        "id": "VFGZTrsZ6lFB"
      }
    },
    {
      "cell_type": "code",
      "source": [
        "import math\n",
        "print(math.sqrt(25))\n",
        "print (math.pi)"
      ],
      "metadata": {
        "colab": {
          "base_uri": "https://localhost:8080/"
        },
        "id": "Jx452WyJ0RU-",
        "outputId": "09f3e7ec-e409-4e5a-a9d6-d57f536853eb"
      },
      "execution_count": null,
      "outputs": [
        {
          "output_type": "stream",
          "name": "stdout",
          "text": [
            "5.0\n",
            "3.141592653589793\n"
          ]
        }
      ]
    },
    {
      "cell_type": "code",
      "source": [
        "user_input = int(input(\"enter a number :\"))\n",
        "print(user_input + 2)"
      ],
      "metadata": {
        "colab": {
          "base_uri": "https://localhost:8080/"
        },
        "id": "45TpcsRpxqaE",
        "outputId": "97c1c6ea-939d-4bce-cc45-08e9428bc99d"
      },
      "execution_count": null,
      "outputs": [
        {
          "output_type": "stream",
          "name": "stdout",
          "text": [
            "enter a number :2\n",
            "4\n"
          ]
        }
      ]
    },
    {
      "cell_type": "code",
      "source": [
        "iftar_items_set ={\" roh afza\" ,\"rooh afza\" ,\"bananan\" ,\"jalabi\" ,\"samosay\"}\n",
        "iftar_items_fset :frozenset= frozenset(iftar_items_set)\n",
        "print(iftar_items_fset)\n"
      ],
      "metadata": {
        "colab": {
          "base_uri": "https://localhost:8080/"
        },
        "id": "Ay0GlZuhwTIE",
        "outputId": "9365f94b-5355-4f6c-b73f-f75cf43105b9"
      },
      "execution_count": null,
      "outputs": [
        {
          "output_type": "stream",
          "name": "stdout",
          "text": [
            "frozenset({'jalabi', 'samosay', 'bananan', 'rooh afza', ' roh afza'})\n"
          ]
        }
      ]
    },
    {
      "cell_type": "code",
      "source": [
        "iftar_items_set ={\" roh afza\" ,\"rooh afza\" ,\"bananan\" ,\"jalabi\" ,\"samosay\"}\n",
        "print(iftar_items_set)"
      ],
      "metadata": {
        "colab": {
          "base_uri": "https://localhost:8080/"
        },
        "id": "FY53O75TsHFe",
        "outputId": "757eb503-f023-4feb-96df-92d4b72d0a6f"
      },
      "execution_count": null,
      "outputs": [
        {
          "output_type": "stream",
          "name": "stdout",
          "text": [
            "{'jalabi', 'samosay', 'bananan', 'rooh afza', ' roh afza'}\n"
          ]
        }
      ]
    },
    {
      "cell_type": "code",
      "source": [],
      "metadata": {
        "id": "9eYOa7pFbg4b"
      },
      "execution_count": null,
      "outputs": []
    },
    {
      "cell_type": "markdown",
      "source": [
        "# 3rd class of python 7 march **2025**"
      ],
      "metadata": {
        "id": "EQcEg3eLb3Kn"
      }
    },
    {
      "cell_type": "code",
      "source": [
        "print(\"its our 3rd class\")"
      ],
      "metadata": {
        "colab": {
          "base_uri": "https://localhost:8080/"
        },
        "id": "sKYiI5-EbqT6",
        "outputId": "69485127-aab2-4899-9d6c-4dd0762e8a8a"
      },
      "execution_count": null,
      "outputs": [
        {
          "output_type": "stream",
          "name": "stdout",
          "text": [
            "its our 3rd class\n"
          ]
        }
      ]
    },
    {
      "cell_type": "code",
      "source": [],
      "metadata": {
        "id": "ffjTvyqecHkR"
      },
      "execution_count": null,
      "outputs": []
    }
  ]
}